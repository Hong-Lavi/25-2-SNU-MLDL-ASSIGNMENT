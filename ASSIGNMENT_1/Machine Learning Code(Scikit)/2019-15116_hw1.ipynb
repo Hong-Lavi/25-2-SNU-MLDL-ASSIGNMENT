{
 "cells": [
  {
   "cell_type": "markdown",
   "metadata": {},
   "source": [
    "Problem 1-Carseats Linear Regression"
   ]
  },
  {
   "cell_type": "markdown",
   "metadata": {},
   "source": [
    "1(a) Fit a multiple linear regression model to predict Sales using Price, Urban, and US"
   ]
  },
  {
   "cell_type": "code",
   "execution_count": null,
   "metadata": {},
   "outputs": [
    {
     "name": "stdout",
     "output_type": "stream",
     "text": [
      "   Sales  CompPrice  Income  Advertising  Population  Price ShelveLoc  Age  \\\n",
      "0   9.50        138      73           11         276    120       Bad   42   \n",
      "1  11.22        111      48           16         260     83      Good   65   \n",
      "2  10.06        113      35           10         269     80    Medium   59   \n",
      "3   7.40        117     100            4         466     97    Medium   55   \n",
      "4   4.15        141      64            3         340    128       Bad   38   \n",
      "\n",
      "   Education Urban   US  \n",
      "0         17   Yes  Yes  \n",
      "1         10   Yes  Yes  \n",
      "2         12   Yes  Yes  \n",
      "3         14   Yes  Yes  \n",
      "4         13   Yes   No  \n"
     ]
    }
   ],
   "source": [
    "#데이터 관리 및 조작\n",
    "import pandas as pd\n",
    "df=pd.read_csv('/Users/lavi/MLDL_25_2_ASSIGNMENT/ASSIGNMENT_1/Data/Carseats.csv')\n",
    "\n",
    "#Check Files for ensure\n",
    "print(df.head())\n"
   ]
  },
  {
   "cell_type": "code",
   "execution_count": 12,
   "metadata": {},
   "outputs": [
    {
     "name": "stdout",
     "output_type": "stream",
     "text": [
      "0     9.50\n",
      "1    11.22\n",
      "2    10.06\n",
      "3     7.40\n",
      "4     4.15\n",
      "Name: Sales, dtype: float64\n",
      "   Price Urban   US\n",
      "0    120   Yes  Yes\n",
      "1     83   Yes  Yes\n",
      "2     80   Yes  Yes\n",
      "3     97   Yes  Yes\n",
      "4    128   Yes   No\n"
     ]
    }
   ],
   "source": [
    "#변수 설정\n",
    "Y=df['Sales']\n",
    "X=df[['Price', 'Urban','US']]\n",
    "\n",
    "#Check data for ensure\n",
    "print(Y.head())\n",
    "print(X.head())"
   ]
  },
  {
   "cell_type": "code",
   "execution_count": 13,
   "metadata": {},
   "outputs": [
    {
     "name": "stdout",
     "output_type": "stream",
     "text": [
      "   Price  Urban_Yes  US_Yes\n",
      "0    120       True    True\n",
      "1     83       True    True\n",
      "2     80       True    True\n",
      "3     97       True    True\n",
      "4    128       True   False\n"
     ]
    }
   ],
   "source": [
    "# Quali. var.(Urban, US) 인코딩\n",
    "X_encoded = pd.get_dummies(X, drop_first=True)\n",
    "print(X_encoded.head())"
   ]
  },
  {
   "cell_type": "code",
   "execution_count": 15,
   "metadata": {},
   "outputs": [
    {
     "name": "stdout",
     "output_type": "stream",
     "text": [
      "Intercept:  13.043468936764892\n",
      "Parameters:  [-0.05445885 -0.02191615  1.2005727 ]\n",
      "R_square:  0.23927539218405547\n"
     ]
    }
   ],
   "source": [
    "# 머신러닝 (Using Scikit-Learn)\n",
    "from sklearn.linear_model import LinearRegression\n",
    "\n",
    "lin_model=LinearRegression(fit_intercept=True)\n",
    "lin_model.fit(X_encoded,Y)\n",
    "\n",
    "r2=lin_model.score(X_encoded,Y)\n",
    "\n",
    "# Output Check\n",
    "print(\"Intercept: \",lin_model.intercept_)\n",
    "print(\"Parameters: \", lin_model.coef_)\n",
    "print(\"R_square: \", r2)\n"
   ]
  },
  {
   "cell_type": "markdown",
   "metadata": {},
   "source": [
    "1(a) Report by pdf file.\n",
    "Which contains the fitted coefficients (including the intercept) and the training R2 of the model."
   ]
  }
 ],
 "metadata": {
  "kernelspec": {
   "display_name": "base",
   "language": "python",
   "name": "python3"
  },
  "language_info": {
   "codemirror_mode": {
    "name": "ipython",
    "version": 3
   },
   "file_extension": ".py",
   "mimetype": "text/x-python",
   "name": "python",
   "nbconvert_exporter": "python",
   "pygments_lexer": "ipython3",
   "version": "3.13.5"
  }
 },
 "nbformat": 4,
 "nbformat_minor": 2
}
