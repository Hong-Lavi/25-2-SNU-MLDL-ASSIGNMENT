{
 "cells": [
  {
   "cell_type": "markdown",
   "metadata": {},
   "source": [
    "***Problem 1-Carseats Linear Regression***"
   ]
  },
  {
   "cell_type": "markdown",
   "metadata": {},
   "source": [
    "**1(a) Fit a multiple linear regression model to predict Sales using Price, Urban, and US**"
   ]
  },
  {
   "cell_type": "code",
   "execution_count": 593,
   "metadata": {},
   "outputs": [
    {
     "name": "stdout",
     "output_type": "stream",
     "text": [
      "   Sales  CompPrice  Income  Advertising  Population  Price ShelveLoc  Age  \\\n",
      "0   9.50        138      73           11         276    120       Bad   42   \n",
      "1  11.22        111      48           16         260     83      Good   65   \n",
      "2  10.06        113      35           10         269     80    Medium   59   \n",
      "3   7.40        117     100            4         466     97    Medium   55   \n",
      "4   4.15        141      64            3         340    128       Bad   38   \n",
      "\n",
      "   Education Urban   US  \n",
      "0         17   Yes  Yes  \n",
      "1         10   Yes  Yes  \n",
      "2         12   Yes  Yes  \n",
      "3         14   Yes  Yes  \n",
      "4         13   Yes   No  \n"
     ]
    }
   ],
   "source": [
    "#데이터 관리 및 조작\n",
    "import pandas as pd\n",
    "df=pd.read_csv('/Users/lavi/MLDL_25_2_ASSIGNMENT/ASSIGNMENT_1/Data/Carseats.csv')\n",
    "\n",
    "#Check Files for ensure\n",
    "print(df.head())\n"
   ]
  },
  {
   "cell_type": "code",
   "execution_count": 594,
   "metadata": {},
   "outputs": [
    {
     "name": "stdout",
     "output_type": "stream",
     "text": [
      "0     9.50\n",
      "1    11.22\n",
      "2    10.06\n",
      "3     7.40\n",
      "4     4.15\n",
      "Name: Sales, dtype: float64\n",
      "   Price Urban   US\n",
      "0    120   Yes  Yes\n",
      "1     83   Yes  Yes\n",
      "2     80   Yes  Yes\n",
      "3     97   Yes  Yes\n",
      "4    128   Yes   No\n"
     ]
    }
   ],
   "source": [
    "#변수 설정\n",
    "Y=df['Sales']\n",
    "X=df[['Price', 'Urban','US']]\n",
    "\n",
    "#Check data for ensure\n",
    "print(Y.head())\n",
    "print(X.head())"
   ]
  },
  {
   "cell_type": "code",
   "execution_count": 595,
   "metadata": {},
   "outputs": [
    {
     "name": "stdout",
     "output_type": "stream",
     "text": [
      "   Price  Urban_Yes  US_Yes\n",
      "0    120       True    True\n",
      "1     83       True    True\n",
      "2     80       True    True\n",
      "3     97       True    True\n",
      "4    128       True   False\n"
     ]
    }
   ],
   "source": [
    "# Quali. var.(Urban, US) 인코딩\n",
    "X_encoded = pd.get_dummies(X, drop_first=True)\n",
    "print(X_encoded.head())"
   ]
  },
  {
   "cell_type": "code",
   "execution_count": 596,
   "metadata": {},
   "outputs": [
    {
     "name": "stdout",
     "output_type": "stream",
     "text": [
      "Intercept:  13.043468936764892\n",
      "Parameters:  [-0.05445885 -0.02191615  1.2005727 ]\n",
      "R_square:  0.23927539218405547\n"
     ]
    }
   ],
   "source": [
    "# 머신러닝 (Using Scikit-Learn)\n",
    "#Scikit-learn Developers (2024). “Linear Regression.” https://scikit-learn.org/stable/modules/generated/sklearn.linear_model.LinearRegression.html 인용\n",
    "\n",
    "from sklearn.linear_model import LinearRegression\n",
    "\n",
    "lin_model=LinearRegression(fit_intercept=True)\n",
    "lin_model.fit(X_encoded,Y)\n",
    "\n",
    "r2=lin_model.score(X_encoded,Y)\n",
    "\n",
    "# Output Check\n",
    "print(\"Intercept: \",lin_model.intercept_)\n",
    "print(\"Parameters: \", lin_model.coef_)\n",
    "print(\"R_square: \", r2)\n"
   ]
  },
  {
   "cell_type": "markdown",
   "metadata": {},
   "source": [
    "*1(a),(b) Report by pdf file.*\n",
    "\n",
    "*(a) Which contains the fitted coefficients (including the intercept) and the training R2 of the model.*\n",
    "\n",
    "*(b) Write the fitted model in equation form, and Provide an interpretation of each coefficient in the model.*"
   ]
  },
  {
   "cell_type": "markdown",
   "metadata": {},
   "source": [
    "**1(c) Closed-form OLS and comparison**"
   ]
  },
  {
   "cell_type": "code",
   "execution_count": 597,
   "metadata": {},
   "outputs": [
    {
     "name": "stdout",
     "output_type": "stream",
     "text": [
      "(400, 4) (400, 1)\n"
     ]
    }
   ],
   "source": [
    "#강의자료 Lecture2, p.30 인용\n",
    "import numpy as np\n",
    "n=len(X_encoded)\n",
    "X_closed = np.column_stack((np.ones(n), X_encoded)).astype(float)\n",
    "\n",
    "Y_closed=Y.values.reshape(-1,1)\n",
    "\n",
    "#check dimension X:n*(p+1), y:(n*1)\n",
    "print(X_closed.shape, Y_closed.shape)"
   ]
  },
  {
   "cell_type": "code",
   "execution_count": 598,
   "metadata": {},
   "outputs": [
    {
     "name": "stdout",
     "output_type": "stream",
     "text": [
      "[[13.04346894]\n",
      " [-0.05445885]\n",
      " [-0.02191615]\n",
      " [ 1.2005727 ]]\n"
     ]
    }
   ],
   "source": [
    "beta_hat=np.linalg.inv(X_closed.T @ X_closed) @ X_closed.T @ Y_closed\n",
    "\n",
    "print(beta_hat)"
   ]
  },
  {
   "cell_type": "code",
   "execution_count": 599,
   "metadata": {},
   "outputs": [
    {
     "name": "stdout",
     "output_type": "stream",
     "text": [
      "   OLS_closed_form    sklearn      abs_diff\n",
      "0        13.043469  13.043469  3.907985e-14\n",
      "1        -0.054459  -0.054459  1.457168e-16\n",
      "2        -0.021916  -0.021916  2.942091e-15\n",
      "3         1.200573   1.200573  1.998401e-15\n"
     ]
    }
   ],
   "source": [
    "coef_sklearn = np.concatenate(([lin_model.intercept_], lin_model.coef_))\n",
    "\n",
    "comparison = pd.DataFrame({\n",
    "    'OLS_closed_form': beta_hat.flatten(),\n",
    "    'sklearn': coef_sklearn,\n",
    "})\n",
    "comparison['abs_diff'] = abs(comparison['OLS_closed_form'] - comparison['sklearn'])\n",
    "print(comparison)"
   ]
  },
  {
   "cell_type": "markdown",
   "metadata": {},
   "source": [
    "**1(d) test H0 : βj = 0 versus H1 : βj != 0 at level α = 0.05**"
   ]
  },
  {
   "cell_type": "code",
   "execution_count": 600,
   "metadata": {},
   "outputs": [
    {
     "name": "stdout",
     "output_type": "stream",
     "text": [
      "            Estimate  Std.Error    t value  Pr(>|t|)  Significant (α=0.05)\n",
      "Intercept  13.043469   0.651012  20.035674  0.000000                  True\n",
      "Price      -0.054459   0.005242 -10.389232  0.000000                  True\n",
      "Urban_Yes  -0.021916   0.271650  -0.080678  0.935739                 False\n",
      "US_Yes      1.200573   0.259042   4.634673  0.000005                  True\n"
     ]
    }
   ],
   "source": [
    "#SciPy Documentation (2024). “scipy.stats.t” https://docs.scipy.org/doc/scipy/reference/generated/scipy.stats.t.html\n",
    "#및 강의자료 Lecture 3, p.8인용\n",
    "from scipy import stats\n",
    "\n",
    "Y_hat=X_closed @ beta_hat\n",
    "#sci-kit의 LinRegression으로 도출된 coef_sklearn과 closed form의 해석적 해 모두 사용하여도 된다.\n",
    "# 두 값이 거의 동일하므로... 다만 coef_sklearn은 (4,)의 차원이므로 (4,1)의 차원으로 reshape(-1,1)필요함.\n",
    "epsilon=Y_closed-Y_hat\n",
    "\n",
    "n,p_plus_1=X_closed.shape\n",
    "df=n-p_plus_1\n",
    "\n",
    "sigma_sq=(epsilon.T @ epsilon)/df\n",
    "sigma=np.sqrt(sigma_sq)\n",
    "\n",
    "var=sigma_sq*np.linalg.inv(X_closed.T @ X_closed)\n",
    "se=np.sqrt(np.diag(var))\n",
    "\n",
    "t_stat=beta_hat.flatten()/se\n",
    "p_values = 2 * (1 - stats.t.cdf(np.abs(t_stat), df))\n",
    "\n",
    "\n",
    "alpha = 0.05\n",
    "significant = p_values < alpha\n",
    "\n",
    "colnames = ['Intercept', 'Price', 'Urban_Yes', 'US_Yes']\n",
    "\n",
    "t_table = pd.DataFrame({\n",
    "    'Estimate': beta_hat.flatten(),\n",
    "    'Std.Error': se,\n",
    "    't value': t_stat,\n",
    "    'Pr(>|t|)': p_values,\n",
    "    'Significant (α=0.05)': significant\n",
    "}, index=colnames)\n",
    "\n",
    "print(t_table)"
   ]
  },
  {
   "cell_type": "markdown",
   "metadata": {},
   "source": [
    "**1(e) Perform a validation set approach(7:3 random val & 5-fold cross val)**"
   ]
  },
  {
   "cell_type": "code",
   "execution_count": 601,
   "metadata": {},
   "outputs": [
    {
     "name": "stdout",
     "output_type": "stream",
     "text": [
      "Train size: 280, Validation size: 120\n"
     ]
    }
   ],
   "source": [
    "from sklearn.model_selection import train_test_split, cross_val_score\n",
    "from sklearn.metrics import r2_score, mean_squared_error\n",
    "\n",
    "random_seed = 1\n",
    "\n",
    "X_train, X_val, y_train, y_val = train_test_split(\n",
    "    X_encoded, Y, test_size=0.3, random_state=random_seed\n",
    ")\n",
    "\n",
    "#Check 7:3 sizing\n",
    "print(f\"Train size: {len(X_train)}, Validation size: {len(X_val)}\")"
   ]
  },
  {
   "cell_type": "markdown",
   "metadata": {},
   "source": [
    "*7:3 Validation*"
   ]
  },
  {
   "cell_type": "code",
   "execution_count": 602,
   "metadata": {},
   "outputs": [
    {
     "name": "stdout",
     "output_type": "stream",
     "text": [
      "Validation[randomseed=1] R²: 0.2849\n",
      "Validation[randomseed=1] MSE: 5.6138\n"
     ]
    }
   ],
   "source": [
    "#Scikit-learn Developers (2024). “train_test_split.” https://scikit-learn.org/stable/modules/generated/sklearn.model_selection.train_test_split.html 인용\n",
    "lm = LinearRegression(fit_intercept=True)\n",
    "lm.fit(X_train, y_train)\n",
    "\n",
    "y_pred_val = lm.predict(X_val)\n",
    "\n",
    "r2_val = r2_score(y_val, y_pred_val)\n",
    "mse_val = mean_squared_error(y_val, y_pred_val)\n",
    "\n",
    "print(f\"Validation[randomseed={random_seed}] R²: {r2_val:.4f}\")\n",
    "print(f\"Validation[randomseed={random_seed}] MSE: {mse_val:.4f}\")\n"
   ]
  },
  {
   "cell_type": "markdown",
   "metadata": {},
   "source": [
    "*5-fold Cross Validation*"
   ]
  },
  {
   "cell_type": "code",
   "execution_count": 603,
   "metadata": {},
   "outputs": [
    {
     "name": "stdout",
     "output_type": "stream",
     "text": [
      "Cross-validated R² (mean): 0.2038\n",
      "Cross-validated MSE (mean): 6.1903\n"
     ]
    }
   ],
   "source": [
    "#Scikit-learn Developers (2024). “cross_val_score.” https://scikit-learn.org/stable/modules/generated/sklearn.model_selection.cross_val_score.html 인용\n",
    "lm_cv = LinearRegression(fit_intercept=True)\n",
    "\n",
    "r2_cv_scores = cross_val_score(lm_cv, X_encoded, Y, cv=5, scoring='r2')\n",
    "mse_cv_scores = -cross_val_score(lm_cv, X_encoded, Y, cv=5, scoring='neg_mean_squared_error')\n",
    "\n",
    "r2_cv_mean = np.mean(r2_cv_scores)\n",
    "mse_cv_mean = np.mean(mse_cv_scores)\n",
    "\n",
    "print(f\"Cross-validated R² (mean): {r2_cv_mean:.4f}\")\n",
    "print(f\"Cross-validated MSE (mean): {mse_cv_mean:.4f}\")"
   ]
  },
  {
   "cell_type": "markdown",
   "metadata": {},
   "source": [
    "***Problem 2(Logistic Regression)***"
   ]
  },
  {
   "cell_type": "markdown",
   "metadata": {},
   "source": [
    "**2(a) LogisticRegression, fit a model to predict default from income and balance.**"
   ]
  },
  {
   "cell_type": "code",
   "execution_count": 604,
   "metadata": {},
   "outputs": [],
   "source": [
    "import pandas as pd\n",
    "import numpy as np\n",
    "from sklearn.linear_model import LogisticRegression\n",
    "from sklearn.preprocessing import StandardScaler\n",
    "from sklearn.pipeline import Pipeline\n",
    "from sklearn.metrics import log_loss"
   ]
  },
  {
   "cell_type": "code",
   "execution_count": 605,
   "metadata": {},
   "outputs": [
    {
     "name": "stdout",
     "output_type": "stream",
     "text": [
      "  default student      balance        income\n",
      "0      No      No   729.526495  44361.625074\n",
      "1      No     Yes   817.180407  12106.134700\n",
      "2      No      No  1073.549164  31767.138947\n",
      "3      No      No   529.250605  35704.493935\n",
      "4      No      No   785.655883  38463.495879\n"
     ]
    }
   ],
   "source": [
    "df = pd.read_csv(\"/Users/lavi/MLDL_25_2_ASSIGNMENT/ASSIGNMENT_1/Data/Default.csv\")\n",
    "\n",
    "print(df.head())"
   ]
  },
  {
   "cell_type": "code",
   "execution_count": 606,
   "metadata": {},
   "outputs": [
    {
     "name": "stdout",
     "output_type": "stream",
     "text": [
      "Balance Mean: 835.3748856125571\n",
      "Income Mean: 33516.981875960504\n",
      "Balance SE: 483.7149852056177\n",
      "Income SE: 13336.639562689912\n"
     ]
    }
   ],
   "source": [
    "df['default_bin'] = df['default'].map({'No': 0, 'Yes': 1})\n",
    "X = df[['income', 'balance']]\n",
    "y = df['default_bin']\n",
    "\n",
    "std_balance = df['balance'].std()\n",
    "mean_balance=df['balance'].mean()\n",
    "std_income = df['income'].std()\n",
    "mean_income=df['income'].mean()\n",
    "\n",
    "print(\"Balance Mean:\", mean_balance)\n",
    "print(\"Income Mean:\", mean_income)\n",
    "\n",
    "print(\"Balance SE:\", std_balance)\n",
    "print(\"Income SE:\", std_income)"
   ]
  },
  {
   "cell_type": "code",
   "execution_count": 607,
   "metadata": {},
   "outputs": [],
   "source": [
    "RANDOM_SEED=1\n",
    "np.random.seed(RANDOM_SEED)"
   ]
  },
  {
   "cell_type": "code",
   "execution_count": 608,
   "metadata": {},
   "outputs": [],
   "source": [
    "#Scikit-learn Developers (2024). “Logistic Regression.” https://scikit-learn.org/stable/modules/generated/sklearn.linear_model.LogisticRegression.html 인용\n",
    "\n",
    "#Scikit-learn Developers (2024). “Pipeline.” https://scikit-learn.org/stable/modules/generated/sklearn.pipeline.Pipeline.html 인용\n",
    "\n",
    "pipe = Pipeline([\n",
    "    ('scaler', StandardScaler()),  # 표준화 여부 O(StandardScaler)\n",
    "    ('clf', LogisticRegression(penalty=None, solver='lbfgs', max_iter=1000, random_state=RANDOM_SEED))\n",
    "])"
   ]
  },
  {
   "cell_type": "code",
   "execution_count": 609,
   "metadata": {},
   "outputs": [],
   "source": [
    "pipe.fit(X, y)\n",
    "clf = pipe.named_steps['clf']\n",
    "intercept = clf.intercept_[0]\n",
    "coef = clf.coef_[0]\n"
   ]
  },
  {
   "cell_type": "code",
   "execution_count": 610,
   "metadata": {},
   "outputs": [],
   "source": [
    "p_train = pipe.predict_proba(X)[:, 1]"
   ]
  },
  {
   "cell_type": "code",
   "execution_count": 611,
   "metadata": {},
   "outputs": [],
   "source": [
    "#Scikit-learn Developers (2024). “log_loss.” https://scikit-learn.org/stable/modules/generated/sklearn.metrics.log_loss.html 인용\n",
    "n = len(y)\n",
    "train_loglik = -log_loss(y, p_train, normalize=False)"
   ]
  },
  {
   "cell_type": "code",
   "execution_count": 612,
   "metadata": {},
   "outputs": [
    {
     "name": "stdout",
     "output_type": "stream",
     "text": [
      "Standardization: Yes (StandardScaler used)\n",
      "Intercept: -6.1094\n",
      "Coefficients: Income=0.2792, Balance=2.7223\n",
      "Training Log-Likelihood: -789.4877\n"
     ]
    }
   ],
   "source": [
    "print(f\"Standardization: Yes (StandardScaler used)\")\n",
    "print(f\"Intercept: {intercept:.4f}\")\n",
    "print(f\"Coefficients: Income={coef[0]:.4f}, Balance={coef[1]:.4f}\")\n",
    "print(f\"Training Log-Likelihood: {train_loglik:.4f}\")"
   ]
  },
  {
   "cell_type": "markdown",
   "metadata": {},
   "source": [
    "**2(b) Provide an interpretation of each coefficient on the log-odds scale & interpretation to the odds ratio scale via eβj**"
   ]
  },
  {
   "cell_type": "code",
   "execution_count": 613,
   "metadata": {},
   "outputs": [
    {
     "name": "stdout",
     "output_type": "stream",
     "text": [
      "Income coefficient: 0.2792, Odds Ratio = 1.322\n",
      "Balance coefficient: 2.7223, Odds Ratio = 15.216\n"
     ]
    }
   ],
   "source": [
    "beta_income = coef[0]\n",
    "beta_balance = coef[1]\n",
    "\n",
    "odds_income = np.exp(beta_income)\n",
    "odds_balance = np.exp(beta_balance)\n",
    "\n",
    "print(f\"Income coefficient: {beta_income:.4f}, Odds Ratio = {odds_income:.3f}\")\n",
    "print(f\"Balance coefficient: {beta_balance:.4f}, Odds Ratio = {odds_balance:.3f}\")"
   ]
  },
  {
   "cell_type": "markdown",
   "metadata": {},
   "source": [
    "**2(c) Code the likelihood and optimize (no closed form)**"
   ]
  },
  {
   "cell_type": "code",
   "execution_count": 614,
   "metadata": {},
   "outputs": [],
   "source": [
    "from scipy.optimize import minimize"
   ]
  },
  {
   "cell_type": "code",
   "execution_count": 615,
   "metadata": {},
   "outputs": [],
   "source": [
    "df = pd.read_csv(\"/Users/lavi/MLDL_25_2_ASSIGNMENT/ASSIGNMENT_1/Data/Default.csv\")\n",
    "df['default_bin'] = df['default'].map({'No':0, 'Yes':1}).astype(int)\n",
    "X = df[['income','balance']].copy()\n",
    "y = df['default_bin'].values.astype(float)"
   ]
  },
  {
   "cell_type": "code",
   "execution_count": 616,
   "metadata": {},
   "outputs": [],
   "source": [
    "RANDOM_SEED = 1\n",
    "np.random.seed(RANDOM_SEED)"
   ]
  },
  {
   "cell_type": "code",
   "execution_count": 617,
   "metadata": {},
   "outputs": [],
   "source": [
    "pipe = Pipeline([\n",
    "    ('scaler', StandardScaler()),\n",
    "    ('clf', LogisticRegression(penalty=None, solver='lbfgs', max_iter=1000, random_state=RANDOM_SEED))\n",
    "])\n",
    "pipe.fit(X, y)\n",
    "clf = pipe.named_steps['clf']"
   ]
  },
  {
   "cell_type": "code",
   "execution_count": 618,
   "metadata": {},
   "outputs": [],
   "source": [
    "beta_std_sklearn = np.r_[clf.intercept_[0], clf.coef_[0]]\n",
    "p_train = pipe.predict_proba(X)[:,1]\n",
    "train_loglik_sklearn = -log_loss(y, p_train, normalize=False)"
   ]
  },
  {
   "cell_type": "code",
   "execution_count": 619,
   "metadata": {},
   "outputs": [],
   "source": [
    "scaler = pipe.named_steps['scaler']\n",
    "X_std = scaler.transform(X)\n",
    "X_mat = np.column_stack([np.ones(len(X_std)), X_std]).astype(float)\n"
   ]
  },
  {
   "cell_type": "code",
   "execution_count": 620,
   "metadata": {},
   "outputs": [],
   "source": [
    "def sigmoid(z):\n",
    "    return 1.0 / (1.0 + np.exp(-np.clip(z, -35, 35)))"
   ]
  },
  {
   "cell_type": "code",
   "execution_count": 621,
   "metadata": {},
   "outputs": [],
   "source": [
    "def neg_loglik(beta):\n",
    "    z = X_mat @ beta\n",
    "    p = sigmoid(z)\n",
    "    eps = 1e-12\n",
    "    return -np.sum(y*np.log(p + eps) + (1 - y)*np.log(1 - p + eps))"
   ]
  },
  {
   "cell_type": "code",
   "execution_count": 622,
   "metadata": {},
   "outputs": [],
   "source": [
    "#강의자료 Lecture 4, p.13 인용\n",
    "def grad_neg_loglik(beta):\n",
    "    z = X_mat @ beta\n",
    "    p = sigmoid(z)\n",
    "    return X_mat.T @ (p - y)"
   ]
  },
  {
   "cell_type": "code",
   "execution_count": 623,
   "metadata": {},
   "outputs": [],
   "source": [
    "beta0 = np.zeros(X_mat.shape[1])\n",
    "res = minimize(neg_loglik, beta0, jac=grad_neg_loglik, method='BFGS', options={'gtol':1e-8, 'maxiter':1000})\n",
    "beta_std_mle = res.x\n",
    "max_loglik_mle = -res.fun"
   ]
  },
  {
   "cell_type": "code",
   "execution_count": 624,
   "metadata": {},
   "outputs": [
    {
     "name": "stdout",
     "output_type": "stream",
     "text": [
      "=== (a) vs (c) coefficients on standardized scale ===\n",
      "          param  sklearn(2a)    MLE(c)  abs_diff\n",
      "0     Intercept    -6.109377 -6.125566  0.016190\n",
      "1   income(std)     0.279158  0.277508  0.001651\n",
      "2  balance(std)     2.722327  2.731452  0.009125\n",
      "\n",
      "Train log-likelihood (sklearn 2a): -789.487744\n",
      "Max log-likelihood (MLE 2c)      : -789.483135\n"
     ]
    }
   ],
   "source": [
    "comp = pd.DataFrame({\n",
    "    'param': ['Intercept','income(std)','balance(std)'],\n",
    "    'sklearn(2a)': beta_std_sklearn,\n",
    "    'MLE(c)': beta_std_mle,\n",
    "    'abs_diff': np.abs(beta_std_sklearn - beta_std_mle)\n",
    "})\n",
    "print(\"=== (a) vs (c) coefficients on standardized scale ===\")\n",
    "print(comp)\n",
    "print(f\"\\nTrain log-likelihood (sklearn 2a): {train_loglik_sklearn:.6f}\")\n",
    "print(f\"Max log-likelihood (MLE 2c)      : {max_loglik_mle:.6f}\")"
   ]
  },
  {
   "cell_type": "markdown",
   "metadata": {},
   "source": [
    "**2(d) Perform a validation set approach(7:3 random val & 5-fold cross val)**"
   ]
  },
  {
   "cell_type": "code",
   "execution_count": 625,
   "metadata": {},
   "outputs": [],
   "source": [
    "from sklearn.metrics import accuracy_score\n",
    "\n",
    "df = pd.read_csv(\"/Users/lavi/MLDL_25_2_ASSIGNMENT/ASSIGNMENT_1/Data/Default.csv\")\n",
    "df['default_bin'] = df['default'].map({'No':0, 'Yes':1}).astype(int)\n",
    "X = df[['income','balance']]\n",
    "y = df['default_bin']\n",
    "\n",
    "RANDOM_SEED = 1\n",
    "np.random.seed(RANDOM_SEED)"
   ]
  },
  {
   "cell_type": "markdown",
   "metadata": {},
   "source": [
    "*7:3 random val*"
   ]
  },
  {
   "cell_type": "code",
   "execution_count": 626,
   "metadata": {},
   "outputs": [],
   "source": [
    "X_train, X_val, y_train, y_val = train_test_split(X, y, test_size=0.3, random_state=RANDOM_SEED, stratify=y)"
   ]
  },
  {
   "cell_type": "code",
   "execution_count": 627,
   "metadata": {},
   "outputs": [
    {
     "data": {
      "text/html": [
       "<style>#sk-container-id-16 {\n",
       "  /* Definition of color scheme common for light and dark mode */\n",
       "  --sklearn-color-text: #000;\n",
       "  --sklearn-color-text-muted: #666;\n",
       "  --sklearn-color-line: gray;\n",
       "  /* Definition of color scheme for unfitted estimators */\n",
       "  --sklearn-color-unfitted-level-0: #fff5e6;\n",
       "  --sklearn-color-unfitted-level-1: #f6e4d2;\n",
       "  --sklearn-color-unfitted-level-2: #ffe0b3;\n",
       "  --sklearn-color-unfitted-level-3: chocolate;\n",
       "  /* Definition of color scheme for fitted estimators */\n",
       "  --sklearn-color-fitted-level-0: #f0f8ff;\n",
       "  --sklearn-color-fitted-level-1: #d4ebff;\n",
       "  --sklearn-color-fitted-level-2: #b3dbfd;\n",
       "  --sklearn-color-fitted-level-3: cornflowerblue;\n",
       "\n",
       "  /* Specific color for light theme */\n",
       "  --sklearn-color-text-on-default-background: var(--sg-text-color, var(--theme-code-foreground, var(--jp-content-font-color1, black)));\n",
       "  --sklearn-color-background: var(--sg-background-color, var(--theme-background, var(--jp-layout-color0, white)));\n",
       "  --sklearn-color-border-box: var(--sg-text-color, var(--theme-code-foreground, var(--jp-content-font-color1, black)));\n",
       "  --sklearn-color-icon: #696969;\n",
       "\n",
       "  @media (prefers-color-scheme: dark) {\n",
       "    /* Redefinition of color scheme for dark theme */\n",
       "    --sklearn-color-text-on-default-background: var(--sg-text-color, var(--theme-code-foreground, var(--jp-content-font-color1, white)));\n",
       "    --sklearn-color-background: var(--sg-background-color, var(--theme-background, var(--jp-layout-color0, #111)));\n",
       "    --sklearn-color-border-box: var(--sg-text-color, var(--theme-code-foreground, var(--jp-content-font-color1, white)));\n",
       "    --sklearn-color-icon: #878787;\n",
       "  }\n",
       "}\n",
       "\n",
       "#sk-container-id-16 {\n",
       "  color: var(--sklearn-color-text);\n",
       "}\n",
       "\n",
       "#sk-container-id-16 pre {\n",
       "  padding: 0;\n",
       "}\n",
       "\n",
       "#sk-container-id-16 input.sk-hidden--visually {\n",
       "  border: 0;\n",
       "  clip: rect(1px 1px 1px 1px);\n",
       "  clip: rect(1px, 1px, 1px, 1px);\n",
       "  height: 1px;\n",
       "  margin: -1px;\n",
       "  overflow: hidden;\n",
       "  padding: 0;\n",
       "  position: absolute;\n",
       "  width: 1px;\n",
       "}\n",
       "\n",
       "#sk-container-id-16 div.sk-dashed-wrapped {\n",
       "  border: 1px dashed var(--sklearn-color-line);\n",
       "  margin: 0 0.4em 0.5em 0.4em;\n",
       "  box-sizing: border-box;\n",
       "  padding-bottom: 0.4em;\n",
       "  background-color: var(--sklearn-color-background);\n",
       "}\n",
       "\n",
       "#sk-container-id-16 div.sk-container {\n",
       "  /* jupyter's `normalize.less` sets `[hidden] { display: none; }`\n",
       "     but bootstrap.min.css set `[hidden] { display: none !important; }`\n",
       "     so we also need the `!important` here to be able to override the\n",
       "     default hidden behavior on the sphinx rendered scikit-learn.org.\n",
       "     See: https://github.com/scikit-learn/scikit-learn/issues/21755 */\n",
       "  display: inline-block !important;\n",
       "  position: relative;\n",
       "}\n",
       "\n",
       "#sk-container-id-16 div.sk-text-repr-fallback {\n",
       "  display: none;\n",
       "}\n",
       "\n",
       "div.sk-parallel-item,\n",
       "div.sk-serial,\n",
       "div.sk-item {\n",
       "  /* draw centered vertical line to link estimators */\n",
       "  background-image: linear-gradient(var(--sklearn-color-text-on-default-background), var(--sklearn-color-text-on-default-background));\n",
       "  background-size: 2px 100%;\n",
       "  background-repeat: no-repeat;\n",
       "  background-position: center center;\n",
       "}\n",
       "\n",
       "/* Parallel-specific style estimator block */\n",
       "\n",
       "#sk-container-id-16 div.sk-parallel-item::after {\n",
       "  content: \"\";\n",
       "  width: 100%;\n",
       "  border-bottom: 2px solid var(--sklearn-color-text-on-default-background);\n",
       "  flex-grow: 1;\n",
       "}\n",
       "\n",
       "#sk-container-id-16 div.sk-parallel {\n",
       "  display: flex;\n",
       "  align-items: stretch;\n",
       "  justify-content: center;\n",
       "  background-color: var(--sklearn-color-background);\n",
       "  position: relative;\n",
       "}\n",
       "\n",
       "#sk-container-id-16 div.sk-parallel-item {\n",
       "  display: flex;\n",
       "  flex-direction: column;\n",
       "}\n",
       "\n",
       "#sk-container-id-16 div.sk-parallel-item:first-child::after {\n",
       "  align-self: flex-end;\n",
       "  width: 50%;\n",
       "}\n",
       "\n",
       "#sk-container-id-16 div.sk-parallel-item:last-child::after {\n",
       "  align-self: flex-start;\n",
       "  width: 50%;\n",
       "}\n",
       "\n",
       "#sk-container-id-16 div.sk-parallel-item:only-child::after {\n",
       "  width: 0;\n",
       "}\n",
       "\n",
       "/* Serial-specific style estimator block */\n",
       "\n",
       "#sk-container-id-16 div.sk-serial {\n",
       "  display: flex;\n",
       "  flex-direction: column;\n",
       "  align-items: center;\n",
       "  background-color: var(--sklearn-color-background);\n",
       "  padding-right: 1em;\n",
       "  padding-left: 1em;\n",
       "}\n",
       "\n",
       "\n",
       "/* Toggleable style: style used for estimator/Pipeline/ColumnTransformer box that is\n",
       "clickable and can be expanded/collapsed.\n",
       "- Pipeline and ColumnTransformer use this feature and define the default style\n",
       "- Estimators will overwrite some part of the style using the `sk-estimator` class\n",
       "*/\n",
       "\n",
       "/* Pipeline and ColumnTransformer style (default) */\n",
       "\n",
       "#sk-container-id-16 div.sk-toggleable {\n",
       "  /* Default theme specific background. It is overwritten whether we have a\n",
       "  specific estimator or a Pipeline/ColumnTransformer */\n",
       "  background-color: var(--sklearn-color-background);\n",
       "}\n",
       "\n",
       "/* Toggleable label */\n",
       "#sk-container-id-16 label.sk-toggleable__label {\n",
       "  cursor: pointer;\n",
       "  display: flex;\n",
       "  width: 100%;\n",
       "  margin-bottom: 0;\n",
       "  padding: 0.5em;\n",
       "  box-sizing: border-box;\n",
       "  text-align: center;\n",
       "  align-items: start;\n",
       "  justify-content: space-between;\n",
       "  gap: 0.5em;\n",
       "}\n",
       "\n",
       "#sk-container-id-16 label.sk-toggleable__label .caption {\n",
       "  font-size: 0.6rem;\n",
       "  font-weight: lighter;\n",
       "  color: var(--sklearn-color-text-muted);\n",
       "}\n",
       "\n",
       "#sk-container-id-16 label.sk-toggleable__label-arrow:before {\n",
       "  /* Arrow on the left of the label */\n",
       "  content: \"▸\";\n",
       "  float: left;\n",
       "  margin-right: 0.25em;\n",
       "  color: var(--sklearn-color-icon);\n",
       "}\n",
       "\n",
       "#sk-container-id-16 label.sk-toggleable__label-arrow:hover:before {\n",
       "  color: var(--sklearn-color-text);\n",
       "}\n",
       "\n",
       "/* Toggleable content - dropdown */\n",
       "\n",
       "#sk-container-id-16 div.sk-toggleable__content {\n",
       "  max-height: 0;\n",
       "  max-width: 0;\n",
       "  overflow: hidden;\n",
       "  text-align: left;\n",
       "  /* unfitted */\n",
       "  background-color: var(--sklearn-color-unfitted-level-0);\n",
       "}\n",
       "\n",
       "#sk-container-id-16 div.sk-toggleable__content.fitted {\n",
       "  /* fitted */\n",
       "  background-color: var(--sklearn-color-fitted-level-0);\n",
       "}\n",
       "\n",
       "#sk-container-id-16 div.sk-toggleable__content pre {\n",
       "  margin: 0.2em;\n",
       "  border-radius: 0.25em;\n",
       "  color: var(--sklearn-color-text);\n",
       "  /* unfitted */\n",
       "  background-color: var(--sklearn-color-unfitted-level-0);\n",
       "}\n",
       "\n",
       "#sk-container-id-16 div.sk-toggleable__content.fitted pre {\n",
       "  /* unfitted */\n",
       "  background-color: var(--sklearn-color-fitted-level-0);\n",
       "}\n",
       "\n",
       "#sk-container-id-16 input.sk-toggleable__control:checked~div.sk-toggleable__content {\n",
       "  /* Expand drop-down */\n",
       "  max-height: 200px;\n",
       "  max-width: 100%;\n",
       "  overflow: auto;\n",
       "}\n",
       "\n",
       "#sk-container-id-16 input.sk-toggleable__control:checked~label.sk-toggleable__label-arrow:before {\n",
       "  content: \"▾\";\n",
       "}\n",
       "\n",
       "/* Pipeline/ColumnTransformer-specific style */\n",
       "\n",
       "#sk-container-id-16 div.sk-label input.sk-toggleable__control:checked~label.sk-toggleable__label {\n",
       "  color: var(--sklearn-color-text);\n",
       "  background-color: var(--sklearn-color-unfitted-level-2);\n",
       "}\n",
       "\n",
       "#sk-container-id-16 div.sk-label.fitted input.sk-toggleable__control:checked~label.sk-toggleable__label {\n",
       "  background-color: var(--sklearn-color-fitted-level-2);\n",
       "}\n",
       "\n",
       "/* Estimator-specific style */\n",
       "\n",
       "/* Colorize estimator box */\n",
       "#sk-container-id-16 div.sk-estimator input.sk-toggleable__control:checked~label.sk-toggleable__label {\n",
       "  /* unfitted */\n",
       "  background-color: var(--sklearn-color-unfitted-level-2);\n",
       "}\n",
       "\n",
       "#sk-container-id-16 div.sk-estimator.fitted input.sk-toggleable__control:checked~label.sk-toggleable__label {\n",
       "  /* fitted */\n",
       "  background-color: var(--sklearn-color-fitted-level-2);\n",
       "}\n",
       "\n",
       "#sk-container-id-16 div.sk-label label.sk-toggleable__label,\n",
       "#sk-container-id-16 div.sk-label label {\n",
       "  /* The background is the default theme color */\n",
       "  color: var(--sklearn-color-text-on-default-background);\n",
       "}\n",
       "\n",
       "/* On hover, darken the color of the background */\n",
       "#sk-container-id-16 div.sk-label:hover label.sk-toggleable__label {\n",
       "  color: var(--sklearn-color-text);\n",
       "  background-color: var(--sklearn-color-unfitted-level-2);\n",
       "}\n",
       "\n",
       "/* Label box, darken color on hover, fitted */\n",
       "#sk-container-id-16 div.sk-label.fitted:hover label.sk-toggleable__label.fitted {\n",
       "  color: var(--sklearn-color-text);\n",
       "  background-color: var(--sklearn-color-fitted-level-2);\n",
       "}\n",
       "\n",
       "/* Estimator label */\n",
       "\n",
       "#sk-container-id-16 div.sk-label label {\n",
       "  font-family: monospace;\n",
       "  font-weight: bold;\n",
       "  display: inline-block;\n",
       "  line-height: 1.2em;\n",
       "}\n",
       "\n",
       "#sk-container-id-16 div.sk-label-container {\n",
       "  text-align: center;\n",
       "}\n",
       "\n",
       "/* Estimator-specific */\n",
       "#sk-container-id-16 div.sk-estimator {\n",
       "  font-family: monospace;\n",
       "  border: 1px dotted var(--sklearn-color-border-box);\n",
       "  border-radius: 0.25em;\n",
       "  box-sizing: border-box;\n",
       "  margin-bottom: 0.5em;\n",
       "  /* unfitted */\n",
       "  background-color: var(--sklearn-color-unfitted-level-0);\n",
       "}\n",
       "\n",
       "#sk-container-id-16 div.sk-estimator.fitted {\n",
       "  /* fitted */\n",
       "  background-color: var(--sklearn-color-fitted-level-0);\n",
       "}\n",
       "\n",
       "/* on hover */\n",
       "#sk-container-id-16 div.sk-estimator:hover {\n",
       "  /* unfitted */\n",
       "  background-color: var(--sklearn-color-unfitted-level-2);\n",
       "}\n",
       "\n",
       "#sk-container-id-16 div.sk-estimator.fitted:hover {\n",
       "  /* fitted */\n",
       "  background-color: var(--sklearn-color-fitted-level-2);\n",
       "}\n",
       "\n",
       "/* Specification for estimator info (e.g. \"i\" and \"?\") */\n",
       "\n",
       "/* Common style for \"i\" and \"?\" */\n",
       "\n",
       ".sk-estimator-doc-link,\n",
       "a:link.sk-estimator-doc-link,\n",
       "a:visited.sk-estimator-doc-link {\n",
       "  float: right;\n",
       "  font-size: smaller;\n",
       "  line-height: 1em;\n",
       "  font-family: monospace;\n",
       "  background-color: var(--sklearn-color-background);\n",
       "  border-radius: 1em;\n",
       "  height: 1em;\n",
       "  width: 1em;\n",
       "  text-decoration: none !important;\n",
       "  margin-left: 0.5em;\n",
       "  text-align: center;\n",
       "  /* unfitted */\n",
       "  border: var(--sklearn-color-unfitted-level-1) 1pt solid;\n",
       "  color: var(--sklearn-color-unfitted-level-1);\n",
       "}\n",
       "\n",
       ".sk-estimator-doc-link.fitted,\n",
       "a:link.sk-estimator-doc-link.fitted,\n",
       "a:visited.sk-estimator-doc-link.fitted {\n",
       "  /* fitted */\n",
       "  border: var(--sklearn-color-fitted-level-1) 1pt solid;\n",
       "  color: var(--sklearn-color-fitted-level-1);\n",
       "}\n",
       "\n",
       "/* On hover */\n",
       "div.sk-estimator:hover .sk-estimator-doc-link:hover,\n",
       ".sk-estimator-doc-link:hover,\n",
       "div.sk-label-container:hover .sk-estimator-doc-link:hover,\n",
       ".sk-estimator-doc-link:hover {\n",
       "  /* unfitted */\n",
       "  background-color: var(--sklearn-color-unfitted-level-3);\n",
       "  color: var(--sklearn-color-background);\n",
       "  text-decoration: none;\n",
       "}\n",
       "\n",
       "div.sk-estimator.fitted:hover .sk-estimator-doc-link.fitted:hover,\n",
       ".sk-estimator-doc-link.fitted:hover,\n",
       "div.sk-label-container:hover .sk-estimator-doc-link.fitted:hover,\n",
       ".sk-estimator-doc-link.fitted:hover {\n",
       "  /* fitted */\n",
       "  background-color: var(--sklearn-color-fitted-level-3);\n",
       "  color: var(--sklearn-color-background);\n",
       "  text-decoration: none;\n",
       "}\n",
       "\n",
       "/* Span, style for the box shown on hovering the info icon */\n",
       ".sk-estimator-doc-link span {\n",
       "  display: none;\n",
       "  z-index: 9999;\n",
       "  position: relative;\n",
       "  font-weight: normal;\n",
       "  right: .2ex;\n",
       "  padding: .5ex;\n",
       "  margin: .5ex;\n",
       "  width: min-content;\n",
       "  min-width: 20ex;\n",
       "  max-width: 50ex;\n",
       "  color: var(--sklearn-color-text);\n",
       "  box-shadow: 2pt 2pt 4pt #999;\n",
       "  /* unfitted */\n",
       "  background: var(--sklearn-color-unfitted-level-0);\n",
       "  border: .5pt solid var(--sklearn-color-unfitted-level-3);\n",
       "}\n",
       "\n",
       ".sk-estimator-doc-link.fitted span {\n",
       "  /* fitted */\n",
       "  background: var(--sklearn-color-fitted-level-0);\n",
       "  border: var(--sklearn-color-fitted-level-3);\n",
       "}\n",
       "\n",
       ".sk-estimator-doc-link:hover span {\n",
       "  display: block;\n",
       "}\n",
       "\n",
       "/* \"?\"-specific style due to the `<a>` HTML tag */\n",
       "\n",
       "#sk-container-id-16 a.estimator_doc_link {\n",
       "  float: right;\n",
       "  font-size: 1rem;\n",
       "  line-height: 1em;\n",
       "  font-family: monospace;\n",
       "  background-color: var(--sklearn-color-background);\n",
       "  border-radius: 1rem;\n",
       "  height: 1rem;\n",
       "  width: 1rem;\n",
       "  text-decoration: none;\n",
       "  /* unfitted */\n",
       "  color: var(--sklearn-color-unfitted-level-1);\n",
       "  border: var(--sklearn-color-unfitted-level-1) 1pt solid;\n",
       "}\n",
       "\n",
       "#sk-container-id-16 a.estimator_doc_link.fitted {\n",
       "  /* fitted */\n",
       "  border: var(--sklearn-color-fitted-level-1) 1pt solid;\n",
       "  color: var(--sklearn-color-fitted-level-1);\n",
       "}\n",
       "\n",
       "/* On hover */\n",
       "#sk-container-id-16 a.estimator_doc_link:hover {\n",
       "  /* unfitted */\n",
       "  background-color: var(--sklearn-color-unfitted-level-3);\n",
       "  color: var(--sklearn-color-background);\n",
       "  text-decoration: none;\n",
       "}\n",
       "\n",
       "#sk-container-id-16 a.estimator_doc_link.fitted:hover {\n",
       "  /* fitted */\n",
       "  background-color: var(--sklearn-color-fitted-level-3);\n",
       "}\n",
       "</style><div id=\"sk-container-id-16\" class=\"sk-top-container\"><div class=\"sk-text-repr-fallback\"><pre>Pipeline(steps=[(&#x27;scaler&#x27;, StandardScaler()),\n",
       "                (&#x27;clf&#x27;,\n",
       "                 LogisticRegression(max_iter=1000, penalty=None,\n",
       "                                    random_state=1))])</pre><b>In a Jupyter environment, please rerun this cell to show the HTML representation or trust the notebook. <br />On GitHub, the HTML representation is unable to render, please try loading this page with nbviewer.org.</b></div><div class=\"sk-container\" hidden><div class=\"sk-item sk-dashed-wrapped\"><div class=\"sk-label-container\"><div class=\"sk-label fitted sk-toggleable\"><input class=\"sk-toggleable__control sk-hidden--visually\" id=\"sk-estimator-id-46\" type=\"checkbox\" ><label for=\"sk-estimator-id-46\" class=\"sk-toggleable__label fitted sk-toggleable__label-arrow\"><div><div>Pipeline</div></div><div><a class=\"sk-estimator-doc-link fitted\" rel=\"noreferrer\" target=\"_blank\" href=\"https://scikit-learn.org/1.6/modules/generated/sklearn.pipeline.Pipeline.html\">?<span>Documentation for Pipeline</span></a><span class=\"sk-estimator-doc-link fitted\">i<span>Fitted</span></span></div></label><div class=\"sk-toggleable__content fitted\"><pre>Pipeline(steps=[(&#x27;scaler&#x27;, StandardScaler()),\n",
       "                (&#x27;clf&#x27;,\n",
       "                 LogisticRegression(max_iter=1000, penalty=None,\n",
       "                                    random_state=1))])</pre></div> </div></div><div class=\"sk-serial\"><div class=\"sk-item\"><div class=\"sk-estimator fitted sk-toggleable\"><input class=\"sk-toggleable__control sk-hidden--visually\" id=\"sk-estimator-id-47\" type=\"checkbox\" ><label for=\"sk-estimator-id-47\" class=\"sk-toggleable__label fitted sk-toggleable__label-arrow\"><div><div>StandardScaler</div></div><div><a class=\"sk-estimator-doc-link fitted\" rel=\"noreferrer\" target=\"_blank\" href=\"https://scikit-learn.org/1.6/modules/generated/sklearn.preprocessing.StandardScaler.html\">?<span>Documentation for StandardScaler</span></a></div></label><div class=\"sk-toggleable__content fitted\"><pre>StandardScaler()</pre></div> </div></div><div class=\"sk-item\"><div class=\"sk-estimator fitted sk-toggleable\"><input class=\"sk-toggleable__control sk-hidden--visually\" id=\"sk-estimator-id-48\" type=\"checkbox\" ><label for=\"sk-estimator-id-48\" class=\"sk-toggleable__label fitted sk-toggleable__label-arrow\"><div><div>LogisticRegression</div></div><div><a class=\"sk-estimator-doc-link fitted\" rel=\"noreferrer\" target=\"_blank\" href=\"https://scikit-learn.org/1.6/modules/generated/sklearn.linear_model.LogisticRegression.html\">?<span>Documentation for LogisticRegression</span></a></div></label><div class=\"sk-toggleable__content fitted\"><pre>LogisticRegression(max_iter=1000, penalty=None, random_state=1)</pre></div> </div></div></div></div></div></div>"
      ],
      "text/plain": [
       "Pipeline(steps=[('scaler', StandardScaler()),\n",
       "                ('clf',\n",
       "                 LogisticRegression(max_iter=1000, penalty=None,\n",
       "                                    random_state=1))])"
      ]
     },
     "execution_count": 627,
     "metadata": {},
     "output_type": "execute_result"
    }
   ],
   "source": [
    "pipe = Pipeline([\n",
    "    ('scaler', StandardScaler()),\n",
    "    ('clf', LogisticRegression(penalty=None, solver='lbfgs', max_iter=1000, random_state=RANDOM_SEED))\n",
    "])\n",
    "pipe.fit(X_train, y_train)"
   ]
  },
  {
   "cell_type": "code",
   "execution_count": 628,
   "metadata": {},
   "outputs": [
    {
     "name": "stdout",
     "output_type": "stream",
     "text": [
      "=== Validation Set (70/30 split) ===\n",
      "Accuracy: 0.9760\n",
      "Misclassification Rate: 0.0240\n"
     ]
    }
   ],
   "source": [
    "proba_val = pipe.predict_proba(X_val)[:, 1]\n",
    "yhat_val = (proba_val >= 0.5).astype(int)\n",
    "val_accuracy = accuracy_score(y_val, yhat_val)\n",
    "val_misclass_rate = 1 - val_accuracy\n",
    "\n",
    "print(\"=== Validation Set (70/30 split) ===\")\n",
    "print(f\"Accuracy: {val_accuracy:.4f}\")\n",
    "print(f\"Misclassification Rate: {val_misclass_rate:.4f}\")\n"
   ]
  },
  {
   "cell_type": "markdown",
   "metadata": {},
   "source": [
    "*5-fold Cross Validation*"
   ]
  },
  {
   "cell_type": "code",
   "execution_count": 629,
   "metadata": {},
   "outputs": [
    {
     "name": "stdout",
     "output_type": "stream",
     "text": [
      "\n",
      "=== 5-Fold Cross Validation ===\n",
      "Mean Accuracy: 0.9735\n",
      "Mean Misclassification Rate: 0.0265\n"
     ]
    }
   ],
   "source": [
    "cv_scores = cross_val_score(pipe, X, y, cv=5, scoring='accuracy')\n",
    "cv_misclass_rate = 1 - cv_scores.mean()\n",
    "\n",
    "print(\"\\n=== 5-Fold Cross Validation ===\")\n",
    "print(f\"Mean Accuracy: {cv_scores.mean():.4f}\")\n",
    "print(f\"Mean Misclassification Rate: {cv_misclass_rate:.4f}\")"
   ]
  },
  {
   "cell_type": "markdown",
   "metadata": {},
   "source": [
    "**2(e) Include a dummy variable for student Using 5-fold cross-validation**"
   ]
  },
  {
   "cell_type": "code",
   "execution_count": 630,
   "metadata": {},
   "outputs": [],
   "source": [
    "from sklearn.model_selection import cross_val_score"
   ]
  },
  {
   "cell_type": "code",
   "execution_count": 631,
   "metadata": {},
   "outputs": [],
   "source": [
    "df['student_bin'] = df['student'].map({'No': 0, 'Yes': 1}).astype(int)\n",
    "\n",
    "X2 = df[['income', 'balance', 'student_bin']]\n",
    "y = df['default_bin']"
   ]
  },
  {
   "cell_type": "code",
   "execution_count": 632,
   "metadata": {},
   "outputs": [],
   "source": [
    "RANDOM_SEED = 1\n",
    "np.random.seed(RANDOM_SEED)"
   ]
  },
  {
   "cell_type": "code",
   "execution_count": 633,
   "metadata": {},
   "outputs": [],
   "source": [
    "pipe2 = Pipeline([\n",
    "    ('scaler', StandardScaler()),\n",
    "    ('clf', LogisticRegression(penalty=None, solver='lbfgs', max_iter=1000, random_state=RANDOM_SEED))\n",
    "])"
   ]
  },
  {
   "cell_type": "code",
   "execution_count": 634,
   "metadata": {},
   "outputs": [
    {
     "name": "stdout",
     "output_type": "stream",
     "text": [
      "=== (2e) Logistic Regression with student dummy ===\n",
      "Mean CV Accuracy: 0.9732\n",
      "Mean CV Misclassification Rate: 0.0268\n"
     ]
    }
   ],
   "source": [
    "cv_scores_2e = cross_val_score(pipe2, X2, y, cv=5, scoring='accuracy')\n",
    "cv_misclass_rate_2e = 1 - cv_scores_2e.mean()\n",
    "\n",
    "print(\"=== (2e) Logistic Regression with student dummy ===\")\n",
    "print(f\"Mean CV Accuracy: {cv_scores_2e.mean():.4f}\")\n",
    "print(f\"Mean CV Misclassification Rate: {cv_misclass_rate_2e:.4f}\")"
   ]
  }
 ],
 "metadata": {
  "kernelspec": {
   "display_name": "base",
   "language": "python",
   "name": "python3"
  },
  "language_info": {
   "codemirror_mode": {
    "name": "ipython",
    "version": 3
   },
   "file_extension": ".py",
   "mimetype": "text/x-python",
   "name": "python",
   "nbconvert_exporter": "python",
   "pygments_lexer": "ipython3",
   "version": "3.13.5"
  }
 },
 "nbformat": 4,
 "nbformat_minor": 2
}
