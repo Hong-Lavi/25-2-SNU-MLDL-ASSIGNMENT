{
 "cells": [
  {
   "cell_type": "markdown",
   "metadata": {},
   "source": [
    "***Problem 1-Carseats Linear Regression***"
   ]
  },
  {
   "cell_type": "markdown",
   "metadata": {},
   "source": [
    "**1(a) Fit a multiple linear regression model to predict Sales using Price, Urban, and US**"
   ]
  },
  {
   "cell_type": "code",
   "execution_count": 84,
   "metadata": {},
   "outputs": [
    {
     "name": "stdout",
     "output_type": "stream",
     "text": [
      "   Sales  CompPrice  Income  Advertising  Population  Price ShelveLoc  Age  \\\n",
      "0   9.50        138      73           11         276    120       Bad   42   \n",
      "1  11.22        111      48           16         260     83      Good   65   \n",
      "2  10.06        113      35           10         269     80    Medium   59   \n",
      "3   7.40        117     100            4         466     97    Medium   55   \n",
      "4   4.15        141      64            3         340    128       Bad   38   \n",
      "\n",
      "   Education Urban   US  \n",
      "0         17   Yes  Yes  \n",
      "1         10   Yes  Yes  \n",
      "2         12   Yes  Yes  \n",
      "3         14   Yes  Yes  \n",
      "4         13   Yes   No  \n"
     ]
    }
   ],
   "source": [
    "#데이터 관리 및 조작\n",
    "import pandas as pd\n",
    "df=pd.read_csv('/Users/lavi/MLDL_25_2_ASSIGNMENT/ASSIGNMENT_1/Data/Carseats.csv')\n",
    "\n",
    "#Check Files for ensure\n",
    "print(df.head())\n"
   ]
  },
  {
   "cell_type": "code",
   "execution_count": 85,
   "metadata": {},
   "outputs": [
    {
     "name": "stdout",
     "output_type": "stream",
     "text": [
      "0     9.50\n",
      "1    11.22\n",
      "2    10.06\n",
      "3     7.40\n",
      "4     4.15\n",
      "Name: Sales, dtype: float64\n",
      "   Price Urban   US\n",
      "0    120   Yes  Yes\n",
      "1     83   Yes  Yes\n",
      "2     80   Yes  Yes\n",
      "3     97   Yes  Yes\n",
      "4    128   Yes   No\n"
     ]
    }
   ],
   "source": [
    "#변수 설정\n",
    "Y=df['Sales']\n",
    "X=df[['Price', 'Urban','US']]\n",
    "\n",
    "#Check data for ensure\n",
    "print(Y.head())\n",
    "print(X.head())"
   ]
  },
  {
   "cell_type": "code",
   "execution_count": 86,
   "metadata": {},
   "outputs": [
    {
     "name": "stdout",
     "output_type": "stream",
     "text": [
      "   Price  Urban_Yes  US_Yes\n",
      "0    120       True    True\n",
      "1     83       True    True\n",
      "2     80       True    True\n",
      "3     97       True    True\n",
      "4    128       True   False\n"
     ]
    }
   ],
   "source": [
    "# Quali. var.(Urban, US) 인코딩\n",
    "X_encoded = pd.get_dummies(X, drop_first=True)\n",
    "print(X_encoded.head())"
   ]
  },
  {
   "cell_type": "code",
   "execution_count": 87,
   "metadata": {},
   "outputs": [
    {
     "name": "stdout",
     "output_type": "stream",
     "text": [
      "Intercept:  13.043468936764892\n",
      "Parameters:  [-0.05445885 -0.02191615  1.2005727 ]\n",
      "R_square:  0.23927539218405547\n"
     ]
    }
   ],
   "source": [
    "# 머신러닝 (Using Scikit-Learn)\n",
    "from sklearn.linear_model import LinearRegression\n",
    "\n",
    "lin_model=LinearRegression(fit_intercept=True)\n",
    "lin_model.fit(X_encoded,Y)\n",
    "\n",
    "r2=lin_model.score(X_encoded,Y)\n",
    "\n",
    "# Output Check\n",
    "print(\"Intercept: \",lin_model.intercept_)\n",
    "print(\"Parameters: \", lin_model.coef_)\n",
    "print(\"R_square: \", r2)\n"
   ]
  },
  {
   "cell_type": "markdown",
   "metadata": {},
   "source": [
    "*1(a),(b) Report by pdf file.*\n",
    "\n",
    "*(a) Which contains the fitted coefficients (including the intercept) and the training R2 of the model.*\n",
    "\n",
    "*(b) Write the fitted model in equation form, and Provide an interpretation of each coefficient in the model.*"
   ]
  },
  {
   "cell_type": "markdown",
   "metadata": {},
   "source": [
    "**1(c) Closed-form OLS and comparison**"
   ]
  },
  {
   "cell_type": "code",
   "execution_count": 88,
   "metadata": {},
   "outputs": [
    {
     "name": "stdout",
     "output_type": "stream",
     "text": [
      "(400, 4) (400, 1)\n"
     ]
    }
   ],
   "source": [
    "import numpy as np\n",
    "n=len(X_encoded)\n",
    "X_closed = np.column_stack((np.ones(n), X_encoded)).astype(float)\n",
    "\n",
    "Y_closed=Y.values.reshape(-1,1)\n",
    "\n",
    "#check dimension X:n*(p+1), y:(n*1)\n",
    "print(X_closed.shape, Y_closed.shape)"
   ]
  },
  {
   "cell_type": "code",
   "execution_count": 89,
   "metadata": {},
   "outputs": [
    {
     "name": "stdout",
     "output_type": "stream",
     "text": [
      "[[13.04346894]\n",
      " [-0.05445885]\n",
      " [-0.02191615]\n",
      " [ 1.2005727 ]]\n"
     ]
    }
   ],
   "source": [
    "beta_hat=np.linalg.inv(X_closed.T @ X_closed) @ X_closed.T @ Y_closed\n",
    "\n",
    "print(beta_hat)"
   ]
  },
  {
   "cell_type": "code",
   "execution_count": 90,
   "metadata": {},
   "outputs": [
    {
     "name": "stdout",
     "output_type": "stream",
     "text": [
      "   OLS_closed_form    sklearn      abs_diff\n",
      "0        13.043469  13.043469  3.907985e-14\n",
      "1        -0.054459  -0.054459  1.457168e-16\n",
      "2        -0.021916  -0.021916  2.942091e-15\n",
      "3         1.200573   1.200573  1.998401e-15\n"
     ]
    }
   ],
   "source": [
    "coef_sklearn = np.concatenate(([lin_model.intercept_], lin_model.coef_))\n",
    "\n",
    "comparison = pd.DataFrame({\n",
    "    'OLS_closed_form': beta_hat.flatten(),\n",
    "    'sklearn': coef_sklearn,\n",
    "})\n",
    "comparison['abs_diff'] = abs(comparison['OLS_closed_form'] - comparison['sklearn'])\n",
    "print(comparison)"
   ]
  },
  {
   "cell_type": "markdown",
   "metadata": {},
   "source": [
    "**1(d) test H0 : βj = 0 versus H1 : βj != 0 at level α = 0.05**"
   ]
  },
  {
   "cell_type": "code",
   "execution_count": 91,
   "metadata": {},
   "outputs": [
    {
     "name": "stdout",
     "output_type": "stream",
     "text": [
      "            Estimate  Std.Error    t value  Pr(>|t|)  Significant (α=0.05)\n",
      "Intercept  13.043469   0.651012  20.035674  0.000000                  True\n",
      "Price      -0.054459   0.005242 -10.389232  0.000000                  True\n",
      "Urban_Yes  -0.021916   0.271650  -0.080678  0.935739                 False\n",
      "US_Yes      1.200573   0.259042   4.634673  0.000005                  True\n"
     ]
    }
   ],
   "source": [
    "from scipy import stats\n",
    "\n",
    "Y_hat=X_closed @ beta_hat\n",
    "#sci-kit의 LinRegression으로 도출된 coef_sklearn과 closed form의 해석적 해 모두 사용하여도 된다.\n",
    "# 두 값이 거의 동일하므로... 다만 coef_sklearn은 (4,)의 차원이므로 (4,1)의 차원으로 reshape(-1,1)필요함.\n",
    "epsilon=Y_closed-Y_hat\n",
    "\n",
    "n,p_plus_1=X_closed.shape\n",
    "df=n-p_plus_1\n",
    "\n",
    "sigma_sq=(epsilon.T @ epsilon)/df\n",
    "sigma=np.sqrt(sigma_sq)\n",
    "\n",
    "var=sigma_sq*np.linalg.inv(X_closed.T @ X_closed)\n",
    "se=np.sqrt(np.diag(var))\n",
    "\n",
    "t_stat=beta_hat.flatten()/se\n",
    "p_values = 2 * (1 - stats.t.cdf(np.abs(t_stat), df))\n",
    "\n",
    "\n",
    "alpha = 0.05\n",
    "significant = p_values < alpha\n",
    "\n",
    "colnames = ['Intercept', 'Price', 'Urban_Yes', 'US_Yes']\n",
    "\n",
    "t_table = pd.DataFrame({\n",
    "    'Estimate': beta_hat.flatten(),\n",
    "    'Std.Error': se,\n",
    "    't value': t_stat,\n",
    "    'Pr(>|t|)': p_values,\n",
    "    'Significant (α=0.05)': significant\n",
    "}, index=colnames)\n",
    "\n",
    "print(t_table)"
   ]
  },
  {
   "cell_type": "markdown",
   "metadata": {},
   "source": [
    "**1(e) Perform a validation set approach(7:3 random val & 5-fold cross val)**"
   ]
  },
  {
   "cell_type": "code",
   "execution_count": 92,
   "metadata": {},
   "outputs": [
    {
     "name": "stdout",
     "output_type": "stream",
     "text": [
      "Train size: 280, Validation size: 120\n"
     ]
    }
   ],
   "source": [
    "from sklearn.model_selection import train_test_split, cross_val_score\n",
    "from sklearn.metrics import r2_score, mean_squared_error\n",
    "\n",
    "random_seed = 1\n",
    "\n",
    "X_train, X_val, y_train, y_val = train_test_split(\n",
    "    X_encoded, Y, test_size=0.3, random_state=random_seed\n",
    ")\n",
    "\n",
    "#Check 7:3 sizing\n",
    "print(f\"Train size: {len(X_train)}, Validation size: {len(X_val)}\")"
   ]
  },
  {
   "cell_type": "markdown",
   "metadata": {},
   "source": [
    "*7:3 Validation*"
   ]
  },
  {
   "cell_type": "code",
   "execution_count": 93,
   "metadata": {},
   "outputs": [
    {
     "name": "stdout",
     "output_type": "stream",
     "text": [
      "Validation R²: 0.2849\n",
      "Validation MSE: 5.6138\n"
     ]
    }
   ],
   "source": [
    "lm = LinearRegression(fit_intercept=True)\n",
    "lm.fit(X_train, y_train)\n",
    "\n",
    "y_pred_val = lm.predict(X_val)\n",
    "\n",
    "r2_val = r2_score(y_val, y_pred_val)\n",
    "mse_val = mean_squared_error(y_val, y_pred_val)\n",
    "\n",
    "print(f\"Validation R²: {r2_val:.4f}\")\n",
    "print(f\"Validation MSE: {mse_val:.4f}\")\n"
   ]
  },
  {
   "cell_type": "markdown",
   "metadata": {},
   "source": [
    "*5-fold Cross Validation*"
   ]
  },
  {
   "cell_type": "code",
   "execution_count": 94,
   "metadata": {},
   "outputs": [
    {
     "name": "stdout",
     "output_type": "stream",
     "text": [
      "Cross-validated R² (mean): 0.2038\n",
      "Cross-validated MSE (mean): 6.1903\n"
     ]
    }
   ],
   "source": [
    "lm_cv = LinearRegression(fit_intercept=True)\n",
    "\n",
    "r2_cv_scores = cross_val_score(lm_cv, X_encoded, Y, cv=5, scoring='r2')\n",
    "mse_cv_scores = -cross_val_score(lm_cv, X_encoded, Y, cv=5, scoring='neg_mean_squared_error')\n",
    "\n",
    "r2_cv_mean = np.mean(r2_cv_scores)\n",
    "mse_cv_mean = np.mean(mse_cv_scores)\n",
    "\n",
    "print(f\"Cross-validated R² (mean): {r2_cv_mean:.4f}\")\n",
    "print(f\"Cross-validated MSE (mean): {mse_cv_mean:.4f}\")"
   ]
  }
 ],
 "metadata": {
  "kernelspec": {
   "display_name": "base",
   "language": "python",
   "name": "python3"
  },
  "language_info": {
   "codemirror_mode": {
    "name": "ipython",
    "version": 3
   },
   "file_extension": ".py",
   "mimetype": "text/x-python",
   "name": "python",
   "nbconvert_exporter": "python",
   "pygments_lexer": "ipython3",
   "version": "3.13.5"
  }
 },
 "nbformat": 4,
 "nbformat_minor": 2
}
